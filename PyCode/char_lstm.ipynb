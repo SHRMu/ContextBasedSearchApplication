{
  "nbformat": 4,
  "nbformat_minor": 0,
  "metadata": {
    "colab": {
      "name": "char_lstm.ipynb",
      "version": "0.3.2",
      "provenance": [],
      "collapsed_sections": []
    },
    "kernelspec": {
      "name": "python3",
      "display_name": "Python 3"
    }
  },
  "cells": [
    {
      "cell_type": "code",
      "metadata": {
        "id": "8mwVLvlkSYvW",
        "colab_type": "code",
        "colab": {}
      },
      "source": [
        "from google.colab import drive\n",
        "drive.mount('/content/drive')"
      ],
      "execution_count": 0,
      "outputs": []
    },
    {
      "cell_type": "code",
      "metadata": {
        "id": "Z6mS9Vk1To2s",
        "colab_type": "code",
        "colab": {}
      },
      "source": [
        "\n",
        "DATA_DIR = \"drive/My Drive/DMPR/data/\"\n",
        "\n",
        "# words_list to chars_list\n",
        "def words_to_chars_list(words_list):\n",
        "  chars_list = []\n",
        "  for word in words_list:\n",
        "    chars = [char for char in word]\n",
        "    if len(chars) > 3:\n",
        "      chars.append('</END>')\n",
        "      chars_list.append(chars)\n",
        "  return chars_list\n",
        "\n",
        "# chars frequency\n",
        "def chars_list_processing(chars_list):\n",
        "  chars_dict ={}\n",
        "  for chars in chars_list:\n",
        "    for char in chars:\n",
        "      if char in chars_dict:\n",
        "        chars_dict[char] = chars_dict[char] + 1\n",
        "      else:\n",
        "        chars_dict[char] = 1\n",
        "  # sort chars_dict by counting times: key:word, value:count\n",
        "  charPairs = sorted(chars_dict.items(), key = lambda x: -x[1])\n",
        "  print(charPairs)\n",
        "  chars, a= zip(*charPairs)\n",
        "  # word to ID, most frequently used word is assigned with a short id\n",
        "  char2int = dict(zip(chars, range(len(chars)))) \n",
        "  print(char2int)\n",
        "  # ID to word\n",
        "  int2char = dict(zip(char2int.values(), char2int.keys()))\n",
        "  #print(reverse_dictionary)\n",
        "  return chars_dict, char2int, int2char"
      ],
      "execution_count": 0,
      "outputs": []
    }
  ]
}